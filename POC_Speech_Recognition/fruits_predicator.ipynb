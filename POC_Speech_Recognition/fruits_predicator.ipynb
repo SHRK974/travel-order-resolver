{
 "cells": [
  {
   "cell_type": "code",
   "execution_count": 13,
   "metadata": {},
   "outputs": [],
   "source": [
    "# Import libraries\n",
    "import os\n",
    "import numpy as np\n",
    "import librosa\n",
    "from hmmlearn import hmm\n",
    "from librosa.feature import mfcc"
   ]
  },
  {
   "cell_type": "code",
   "execution_count": 14,
   "metadata": {},
   "outputs": [],
   "source": [
    "# Function to extract MFCC features from the audio file\n",
    "class HMMTrainer(object):\n",
    "    def __init__(self, model_name='GaussianHMM', n_components=4, cov_type='diag', n_iter=1000):\n",
    "        self.model_name = model_name\n",
    "        self.n_components = n_components\n",
    "        self.cov_type = cov_type\n",
    "        self.n_iter = n_iter\n",
    "        self.models = []\n",
    "\n",
    "        if self.model_name == 'GaussianHMM':\n",
    "            self.model = hmm.GaussianHMM(n_components=self.n_components, \n",
    "                    covariance_type=self.cov_type, n_iter=self.n_iter)\n",
    "        else:\n",
    "            raise TypeError('Invalid model type')\n",
    "\n",
    "    # X is a 2D numpy array where each row is 13D\n",
    "    def train(self, X):\n",
    "        np.seterr(all='ignore')\n",
    "        self.models.append(self.model.fit(X))\n",
    "\n",
    "    # Run the model on input data\n",
    "    def get_score(self, input_data):\n",
    "        return self.model.score(input_data)"
   ]
  },
  {
   "cell_type": "code",
   "execution_count": 15,
   "metadata": {},
   "outputs": [
    {
     "data": {
      "text/plain": [
       "['apple', 'banana', 'kiwi', 'lime', 'orange', 'peach', 'pineapple']"
      ]
     },
     "execution_count": 15,
     "metadata": {},
     "output_type": "execute_result"
    }
   ],
   "source": [
    "# Define the path to the audio files\n",
    "input_folder = './fruits_audio/'\n",
    "os.listdir(input_folder)"
   ]
  },
  {
   "cell_type": "code",
   "execution_count": 16,
   "metadata": {},
   "outputs": [
    {
     "name": "stdout",
     "output_type": "stream",
     "text": [
      "apple\n",
      "banana\n",
      "kiwi\n",
      "lime\n",
      "orange\n",
      "peach\n",
      "pineapple\n"
     ]
    }
   ],
   "source": [
    "for dirname in os.listdir(input_folder):\n",
    "      # Get the name of the subfolder \n",
    "      subfolder = os.path.join(input_folder, dirname)\n",
    "      #print(subfolder)\n",
    "      label = subfolder[subfolder.rfind('/') + 1:]\n",
    "      print(label)"
   ]
  },
  {
   "cell_type": "code",
   "execution_count": 17,
   "metadata": {},
   "outputs": [
    {
     "name": "stdout",
     "output_type": "stream",
     "text": [
      "X.shape = (280, 15)\n",
      "X.shape = (280, 15)\n"
     ]
    },
    {
     "name": "stdout",
     "output_type": "stream",
     "text": [
      "X.shape = (280, 15)\n",
      "X.shape = (280, 15)\n",
      "X.shape = (280, 15)\n",
      "X.shape = (280, 15)\n",
      "X.shape = (280, 15)\n"
     ]
    }
   ],
   "source": [
    "hmm_models = []\n",
    "\n",
    "# Iterate through each subfolder\n",
    "for dirname in os.listdir(input_folder):\n",
    "    subfolder = os.path.join(input_folder, dirname)\n",
    "    if not os.path.isdir(subfolder): \n",
    "         continue\n",
    "    label = subfolder[subfolder.rfind('/') + 1:]\n",
    "    X = np.array([])\n",
    "    y_words = []\n",
    "    \n",
    "    # Extract MFCC features\n",
    "    for filename in [x for x in os.listdir(subfolder) if x.endswith('.wav')][:-1]:\n",
    "        filepath = os.path.join(subfolder, filename)\n",
    "        sampling_freq, audio = librosa.load(filepath)            \n",
    "        mfcc_features = mfcc(y=sampling_freq, sr=audio)\n",
    "        if len(X) == 0:\n",
    "            X = mfcc_features[:,:15]\n",
    "        else:\n",
    "            X = np.append(X, mfcc_features[:,:15], axis=0)            \n",
    "        y_words.append(label)\n",
    "    print('X.shape =', X.shape)\n",
    "    \n",
    "    hmm_trainer = HMMTrainer()\n",
    "    hmm_trainer.train(X)\n",
    "    hmm_models.append((hmm_trainer, label))\n",
    "    hmm_trainer = None"
   ]
  },
  {
   "cell_type": "code",
   "execution_count": 18,
   "metadata": {},
   "outputs": [
    {
     "name": "stdout",
     "output_type": "stream",
     "text": [
      "\n",
      "True: fruits_audio/pineapple\n",
      "Predicted: pineapple\n",
      "Axi: 6\n",
      "\n",
      "True: fruits_audio/orange\n",
      "Predicted: orange\n",
      "Axi: 4\n",
      "\n",
      "True: fruits_audio/apple\n",
      "Predicted: apple\n",
      "Axi: 0\n",
      "\n",
      "True: fruits_audio/kiwi\n",
      "Predicted: kiwi\n",
      "Axi: 2\n",
      "\n",
      "True: fruits_audio/banana\n",
      "Predicted: banana\n",
      "Axi: 1\n",
      "\n",
      "True: fruits_audio/peach\n",
      "Predicted: peach\n",
      "Axi: 5\n",
      "\n",
      "True: fruits_audio/pineapple\n",
      "Predicted: pineapple\n",
      "Axi: 6\n",
      "\n",
      "True: fruits_audio/orange\n",
      "Predicted: orange\n",
      "Axi: 4\n",
      "\n",
      "True: fruits_audio/apple\n",
      "Predicted: apple\n",
      "Axi: 0\n",
      "\n",
      "True: fruits_audio/kiwi\n",
      "Predicted: kiwi\n",
      "Axi: 2\n",
      "\n",
      "True: fruits_audio/banana\n",
      "Predicted: banana\n",
      "Axi: 1\n",
      "\n",
      "True: fruits_audio/peach\n",
      "Predicted: peach\n",
      "Axi: 5\n",
      "\n",
      "True: fruits_audio/pineapple\n",
      "Predicted: pineapple\n",
      "Axi: 6\n",
      "\n",
      "True: fruits_audio/orange\n",
      "Predicted: orange\n",
      "Axi: 4\n",
      "\n",
      "True: fruits_audio/apple\n",
      "Predicted: apple\n",
      "Axi: 0\n",
      "\n",
      "True: fruits_audio/kiwi\n",
      "Predicted: kiwi\n",
      "Axi: 2\n",
      "\n",
      "True: fruits_audio/banana\n",
      "Predicted: banana\n",
      "Axi: 1\n",
      "\n",
      "True: fruits_audio/peach\n",
      "Predicted: peach\n",
      "Axi: 5\n"
     ]
    }
   ],
   "source": [
    "# Test files\n",
    "input_files = [\n",
    "  './fruits_audio/pineapple/pineapple01.wav',\n",
    "  './fruits_audio/orange/orange01.wav',\n",
    "  './fruits_audio/apple/apple01.wav',\n",
    "  './fruits_audio/kiwi/kiwi01.wav',\n",
    "  './fruits_audio/banana/banana01.wav',\n",
    "  './fruits_audio/peach/peach01.wav',\n",
    "  './fruits_audio/pineapple/pineapple10.wav',\n",
    "  './fruits_audio/orange/orange10.wav',\n",
    "  './fruits_audio/apple/apple10.wav',\n",
    "  './fruits_audio/kiwi/kiwi10.wav',\n",
    "  './fruits_audio/banana/banana10.wav',\n",
    "  './fruits_audio/peach/peach10.wav',\n",
    "  './fruits_audio/pineapple/pineapple15.wav',\n",
    "  './fruits_audio/orange/orange15.wav',\n",
    "  './fruits_audio/apple/apple15.wav',\n",
    "  './fruits_audio/kiwi/kiwi15.wav',\n",
    "  './fruits_audio/banana/banana15.wav',\n",
    "  './fruits_audio/peach/peach15.wav'\n",
    "]\n",
    "\n",
    "\n",
    "# Classify input data\n",
    "for input_file in input_files:\n",
    "  if not os.path.exists(input_file):\n",
    "    print(f\"File {input_file} does not exist.\")\n",
    "    continue\n",
    "  sampling_freq, audio = librosa.load(input_file)\n",
    "\n",
    "  # Extract MFCC features\n",
    "  mfcc_features = mfcc(y=sampling_freq, sr=audio)\n",
    "  mfcc_features=mfcc_features[:,:15]\n",
    "\n",
    "  scores=[]\n",
    "  for item in hmm_models:\n",
    "    hmm_model, label = item\n",
    "\n",
    "    score = hmm_model.get_score(mfcc_features)\n",
    "    scores.append(score)\n",
    "\n",
    "  # Get the index of the item with max score\n",
    "  index=np.array(scores).argmax()\n",
    "\n",
    "  # get axis of the max score\n",
    "  axis = np.argmax(scores)\n",
    "  \n",
    "  print(\"\\nTrue:\", input_file[input_file.find('/')+1:input_file.rfind('/')])\n",
    "  print(\"Predicted:\", hmm_models[index][1])\n",
    "  print(\"Axi:\", axis)"
   ]
  }
 ],
 "metadata": {
  "kernelspec": {
   "display_name": "Python 3",
   "language": "python",
   "name": "python3"
  },
  "language_info": {
   "codemirror_mode": {
    "name": "ipython",
    "version": 3
   },
   "file_extension": ".py",
   "mimetype": "text/x-python",
   "name": "python",
   "nbconvert_exporter": "python",
   "pygments_lexer": "ipython3",
   "version": "3.11.4"
  }
 },
 "nbformat": 4,
 "nbformat_minor": 2
}
