{
  "cells": [
    {
      "cell_type": "markdown",
      "metadata": {},
      "source": [
        "## Choix des fichiers"
      ]
    },
    {
      "cell_type": "code",
      "execution_count": 1,
      "metadata": {},
      "outputs": [],
      "source": [
        "# Chemin du fichier d'entrée (id, phrases à analyser)\n",
        "file_path_intput = './samples/sample_nlp_input.txt'\n",
        "\n",
        "# Chemin du fichier de sortie (triplets id, départ, destination)\n",
        "file_path_output = './samples/sample_nlp_output.txt'"
      ]
    },
    {
      "cell_type": "markdown",
      "metadata": {},
      "source": [
        "## Lancement de l'analyse"
      ]
    },
    {
      "cell_type": "code",
      "execution_count": 2,
      "metadata": {
        "colab": {
          "base_uri": "https://localhost:8080/"
        },
        "id": "VRGQF9p2VKss",
        "outputId": "205de197-2cd9-4255-ee1f-dde5dc86ebb8"
      },
      "outputs": [
        {
          "name": "stdout",
          "output_type": "stream",
          "text": [
            "Looking in indexes: https://pypi.org/simple, https://pypi.ngc.nvidia.com\n",
            "Requirement already satisfied: spacy-langdetect in c:\\users\\pc\\anaconda3\\envs\\nlp\\lib\\site-packages (0.1.2)\n",
            "Requirement already satisfied: pytest in c:\\users\\pc\\anaconda3\\envs\\nlp\\lib\\site-packages (from spacy-langdetect) (7.4.3)\n",
            "Requirement already satisfied: langdetect==1.0.7 in c:\\users\\pc\\anaconda3\\envs\\nlp\\lib\\site-packages (from spacy-langdetect) (1.0.7)\n",
            "Requirement already satisfied: six in c:\\users\\pc\\appdata\\roaming\\python\\python311\\site-packages (from langdetect==1.0.7->spacy-langdetect) (1.16.0)\n",
            "Requirement already satisfied: iniconfig in c:\\users\\pc\\anaconda3\\envs\\nlp\\lib\\site-packages (from pytest->spacy-langdetect) (2.0.0)\n",
            "Requirement already satisfied: packaging in c:\\users\\pc\\appdata\\roaming\\python\\python311\\site-packages (from pytest->spacy-langdetect) (23.0)\n",
            "Requirement already satisfied: pluggy<2.0,>=0.12 in c:\\users\\pc\\anaconda3\\envs\\nlp\\lib\\site-packages (from pytest->spacy-langdetect) (1.3.0)\n",
            "Requirement already satisfied: colorama in c:\\users\\pc\\appdata\\roaming\\python\\python311\\site-packages (from pytest->spacy-langdetect) (0.4.6)\n",
            "Ajout de LanguageDetector à la pipeline\n",
            "LanguageDetector ajouté à la pipeline\n",
            "___________________________\n",
            "Lecture du fichier d'entrée :\n",
            "1,je voudrais aller de Toulouse à bordeaux\n",
            "2,Comment me rendre à Port-Boulet depuis la gare de Tours ?\n",
            "3,Je veux aller voir mon ami Albert à Tours en partant de Bordeaux\n",
            "4,Il y a-t-il des trains de Nantes à Montaigu\n",
            "5,Une phrase sans origine ni destination\n",
            "Si pas de numéro de séquence, on considère que c'est zéro\n",
            "7, is there any train going from Paris to Marseille ?\n",
            "\n",
            "___________________________\n",
            "NER originaux : \n"
          ]
        },
        {
          "data": {
            "text/html": [
              "<span class=\"tex2jax_ignore\"><div class=\"entities\" style=\"line-height: 2.5; direction: ltr\">je voudrais aller de \n",
              "<mark class=\"entity\" style=\"background: #ff9561; padding: 0.45em 0.6em; margin: 0 0.25em; line-height: 1; border-radius: 0.35em;\">\n",
              "    Toulouse\n",
              "    <span style=\"font-size: 0.8em; font-weight: bold; line-height: 1; border-radius: 0.35em; vertical-align: middle; margin-left: 0.5rem\">LOC</span>\n",
              "</mark>\n",
              " à \n",
              "<mark class=\"entity\" style=\"background: #ff9561; padding: 0.45em 0.6em; margin: 0 0.25em; line-height: 1; border-radius: 0.35em;\">\n",
              "    bordeaux\n",
              "    <span style=\"font-size: 0.8em; font-weight: bold; line-height: 1; border-radius: 0.35em; vertical-align: middle; margin-left: 0.5rem\">LOC</span>\n",
              "</mark>\n",
              "</div></span>"
            ],
            "text/plain": [
              "<IPython.core.display.HTML object>"
            ]
          },
          "metadata": {},
          "output_type": "display_data"
        },
        {
          "name": "stdout",
          "output_type": "stream",
          "text": [
            "NER itineraire : \n"
          ]
        },
        {
          "data": {
            "text/html": [
              "<span class=\"tex2jax_ignore\"><div class=\"entities\" style=\"line-height: 2.5; direction: ltr\">je voudrais aller de \n",
              "<mark class=\"entity\" style=\"background: #ddd; padding: 0.45em 0.6em; margin: 0 0.25em; line-height: 1; border-radius: 0.35em;\">\n",
              "    Toulouse\n",
              "    <span style=\"font-size: 0.8em; font-weight: bold; line-height: 1; border-radius: 0.35em; vertical-align: middle; margin-left: 0.5rem\">DEPARTURE</span>\n",
              "</mark>\n",
              " à \n",
              "<mark class=\"entity\" style=\"background: #ddd; padding: 0.45em 0.6em; margin: 0 0.25em; line-height: 1; border-radius: 0.35em;\">\n",
              "    bordeaux\n",
              "    <span style=\"font-size: 0.8em; font-weight: bold; line-height: 1; border-radius: 0.35em; vertical-align: middle; margin-left: 0.5rem\">DESTINATION</span>\n",
              "</mark>\n",
              "</div></span>"
            ],
            "text/plain": [
              "<IPython.core.display.HTML object>"
            ]
          },
          "metadata": {},
          "output_type": "display_data"
        },
        {
          "name": "stdout",
          "output_type": "stream",
          "text": [
            "-----------------------------\n",
            "NER originaux : \n"
          ]
        },
        {
          "data": {
            "text/html": [
              "<span class=\"tex2jax_ignore\"><div class=\"entities\" style=\"line-height: 2.5; direction: ltr\">Comment me rendre à \n",
              "<mark class=\"entity\" style=\"background: #ff9561; padding: 0.45em 0.6em; margin: 0 0.25em; line-height: 1; border-radius: 0.35em;\">\n",
              "    Port-Boulet\n",
              "    <span style=\"font-size: 0.8em; font-weight: bold; line-height: 1; border-radius: 0.35em; vertical-align: middle; margin-left: 0.5rem\">LOC</span>\n",
              "</mark>\n",
              " depuis la \n",
              "<mark class=\"entity\" style=\"background: #ff9561; padding: 0.45em 0.6em; margin: 0 0.25em; line-height: 1; border-radius: 0.35em;\">\n",
              "    gare de Tours\n",
              "    <span style=\"font-size: 0.8em; font-weight: bold; line-height: 1; border-radius: 0.35em; vertical-align: middle; margin-left: 0.5rem\">LOC</span>\n",
              "</mark>\n",
              " ?</div></span>"
            ],
            "text/plain": [
              "<IPython.core.display.HTML object>"
            ]
          },
          "metadata": {},
          "output_type": "display_data"
        },
        {
          "name": "stdout",
          "output_type": "stream",
          "text": [
            "NER itineraire : \n"
          ]
        },
        {
          "data": {
            "text/html": [
              "<span class=\"tex2jax_ignore\"><div class=\"entities\" style=\"line-height: 2.5; direction: ltr\">Comment me rendre à \n",
              "<mark class=\"entity\" style=\"background: #ddd; padding: 0.45em 0.6em; margin: 0 0.25em; line-height: 1; border-radius: 0.35em;\">\n",
              "    Port-Boulet\n",
              "    <span style=\"font-size: 0.8em; font-weight: bold; line-height: 1; border-radius: 0.35em; vertical-align: middle; margin-left: 0.5rem\">DESTINATION</span>\n",
              "</mark>\n",
              " depuis la gare de \n",
              "<mark class=\"entity\" style=\"background: #ddd; padding: 0.45em 0.6em; margin: 0 0.25em; line-height: 1; border-radius: 0.35em;\">\n",
              "    Tours\n",
              "    <span style=\"font-size: 0.8em; font-weight: bold; line-height: 1; border-radius: 0.35em; vertical-align: middle; margin-left: 0.5rem\">DEPARTURE</span>\n",
              "</mark>\n",
              " ?</div></span>"
            ],
            "text/plain": [
              "<IPython.core.display.HTML object>"
            ]
          },
          "metadata": {},
          "output_type": "display_data"
        },
        {
          "name": "stdout",
          "output_type": "stream",
          "text": [
            "-----------------------------\n",
            "NER originaux : \n"
          ]
        },
        {
          "data": {
            "text/html": [
              "<span class=\"tex2jax_ignore\"><div class=\"entities\" style=\"line-height: 2.5; direction: ltr\">Je veux aller voir mon ami \n",
              "<mark class=\"entity\" style=\"background: #ddd; padding: 0.45em 0.6em; margin: 0 0.25em; line-height: 1; border-radius: 0.35em;\">\n",
              "    Albert\n",
              "    <span style=\"font-size: 0.8em; font-weight: bold; line-height: 1; border-radius: 0.35em; vertical-align: middle; margin-left: 0.5rem\">PER</span>\n",
              "</mark>\n",
              " à \n",
              "<mark class=\"entity\" style=\"background: #ff9561; padding: 0.45em 0.6em; margin: 0 0.25em; line-height: 1; border-radius: 0.35em;\">\n",
              "    Tours\n",
              "    <span style=\"font-size: 0.8em; font-weight: bold; line-height: 1; border-radius: 0.35em; vertical-align: middle; margin-left: 0.5rem\">LOC</span>\n",
              "</mark>\n",
              " en partant de \n",
              "<mark class=\"entity\" style=\"background: #ff9561; padding: 0.45em 0.6em; margin: 0 0.25em; line-height: 1; border-radius: 0.35em;\">\n",
              "    Bordeaux\n",
              "    <span style=\"font-size: 0.8em; font-weight: bold; line-height: 1; border-radius: 0.35em; vertical-align: middle; margin-left: 0.5rem\">LOC</span>\n",
              "</mark>\n",
              "</div></span>"
            ],
            "text/plain": [
              "<IPython.core.display.HTML object>"
            ]
          },
          "metadata": {},
          "output_type": "display_data"
        },
        {
          "name": "stdout",
          "output_type": "stream",
          "text": [
            "NER itineraire : \n"
          ]
        },
        {
          "data": {
            "text/html": [
              "<span class=\"tex2jax_ignore\"><div class=\"entities\" style=\"line-height: 2.5; direction: ltr\">Je veux aller voir mon ami Albert à \n",
              "<mark class=\"entity\" style=\"background: #ddd; padding: 0.45em 0.6em; margin: 0 0.25em; line-height: 1; border-radius: 0.35em;\">\n",
              "    Tours\n",
              "    <span style=\"font-size: 0.8em; font-weight: bold; line-height: 1; border-radius: 0.35em; vertical-align: middle; margin-left: 0.5rem\">DESTINATION</span>\n",
              "</mark>\n",
              " en partant de \n",
              "<mark class=\"entity\" style=\"background: #ddd; padding: 0.45em 0.6em; margin: 0 0.25em; line-height: 1; border-radius: 0.35em;\">\n",
              "    Bordeaux\n",
              "    <span style=\"font-size: 0.8em; font-weight: bold; line-height: 1; border-radius: 0.35em; vertical-align: middle; margin-left: 0.5rem\">DEPARTURE</span>\n",
              "</mark>\n",
              "</div></span>"
            ],
            "text/plain": [
              "<IPython.core.display.HTML object>"
            ]
          },
          "metadata": {},
          "output_type": "display_data"
        },
        {
          "name": "stdout",
          "output_type": "stream",
          "text": [
            "-----------------------------\n",
            "NER originaux : \n"
          ]
        },
        {
          "data": {
            "text/html": [
              "<span class=\"tex2jax_ignore\"><div class=\"entities\" style=\"line-height: 2.5; direction: ltr\">Il y a-t-il des trains de \n",
              "<mark class=\"entity\" style=\"background: #ff9561; padding: 0.45em 0.6em; margin: 0 0.25em; line-height: 1; border-radius: 0.35em;\">\n",
              "    Nantes\n",
              "    <span style=\"font-size: 0.8em; font-weight: bold; line-height: 1; border-radius: 0.35em; vertical-align: middle; margin-left: 0.5rem\">LOC</span>\n",
              "</mark>\n",
              " à \n",
              "<mark class=\"entity\" style=\"background: #ff9561; padding: 0.45em 0.6em; margin: 0 0.25em; line-height: 1; border-radius: 0.35em;\">\n",
              "    Montaigu\n",
              "    <span style=\"font-size: 0.8em; font-weight: bold; line-height: 1; border-radius: 0.35em; vertical-align: middle; margin-left: 0.5rem\">LOC</span>\n",
              "</mark>\n",
              "</div></span>"
            ],
            "text/plain": [
              "<IPython.core.display.HTML object>"
            ]
          },
          "metadata": {},
          "output_type": "display_data"
        },
        {
          "name": "stdout",
          "output_type": "stream",
          "text": [
            "NER itineraire : \n"
          ]
        },
        {
          "data": {
            "text/html": [
              "<span class=\"tex2jax_ignore\"><div class=\"entities\" style=\"line-height: 2.5; direction: ltr\">Il y a-t-il des trains de \n",
              "<mark class=\"entity\" style=\"background: #ddd; padding: 0.45em 0.6em; margin: 0 0.25em; line-height: 1; border-radius: 0.35em;\">\n",
              "    Nantes\n",
              "    <span style=\"font-size: 0.8em; font-weight: bold; line-height: 1; border-radius: 0.35em; vertical-align: middle; margin-left: 0.5rem\">DEPARTURE</span>\n",
              "</mark>\n",
              " à \n",
              "<mark class=\"entity\" style=\"background: #ddd; padding: 0.45em 0.6em; margin: 0 0.25em; line-height: 1; border-radius: 0.35em;\">\n",
              "    Montaigu\n",
              "    <span style=\"font-size: 0.8em; font-weight: bold; line-height: 1; border-radius: 0.35em; vertical-align: middle; margin-left: 0.5rem\">DESTINATION</span>\n",
              "</mark>\n",
              "</div></span>"
            ],
            "text/plain": [
              "<IPython.core.display.HTML object>"
            ]
          },
          "metadata": {},
          "output_type": "display_data"
        },
        {
          "name": "stdout",
          "output_type": "stream",
          "text": [
            "-----------------------------\n",
            "NER originaux : \n"
          ]
        },
        {
          "name": "stderr",
          "output_type": "stream",
          "text": [
            "c:\\Users\\PC\\anaconda3\\envs\\nlp\\Lib\\site-packages\\spacy\\displacy\\__init__.py:213: UserWarning: [W006] No entities to visualize found in Doc object. If this is surprising to you, make sure the Doc was processed using a model that supports named entity recognition, and check the `doc.ents` property manually if necessary.\n",
            "  warnings.warn(Warnings.W006)\n"
          ]
        },
        {
          "data": {
            "text/html": [
              "<span class=\"tex2jax_ignore\"><div class=\"entities\" style=\"line-height: 2.5; direction: ltr\">Une phrase sans origine ni destination</div></span>"
            ],
            "text/plain": [
              "<IPython.core.display.HTML object>"
            ]
          },
          "metadata": {},
          "output_type": "display_data"
        },
        {
          "name": "stdout",
          "output_type": "stream",
          "text": [
            "NER itineraire : \n"
          ]
        },
        {
          "data": {
            "text/html": [
              "<span class=\"tex2jax_ignore\"><div class=\"entities\" style=\"line-height: 2.5; direction: ltr\">Une phrase sans origine ni destination</div></span>"
            ],
            "text/plain": [
              "<IPython.core.display.HTML object>"
            ]
          },
          "metadata": {},
          "output_type": "display_data"
        },
        {
          "name": "stdout",
          "output_type": "stream",
          "text": [
            "-----------------------------\n",
            "NER originaux : \n"
          ]
        },
        {
          "data": {
            "text/html": [
              "<span class=\"tex2jax_ignore\"><div class=\"entities\" style=\"line-height: 2.5; direction: ltr\"> on considère que c'est zéro</div></span>"
            ],
            "text/plain": [
              "<IPython.core.display.HTML object>"
            ]
          },
          "metadata": {},
          "output_type": "display_data"
        },
        {
          "name": "stdout",
          "output_type": "stream",
          "text": [
            "NER itineraire : \n"
          ]
        },
        {
          "data": {
            "text/html": [
              "<span class=\"tex2jax_ignore\"><div class=\"entities\" style=\"line-height: 2.5; direction: ltr\"> on considère que c'est zéro</div></span>"
            ],
            "text/plain": [
              "<IPython.core.display.HTML object>"
            ]
          },
          "metadata": {},
          "output_type": "display_data"
        },
        {
          "name": "stdout",
          "output_type": "stream",
          "text": [
            "-----------------------------\n",
            "NER originaux : \n"
          ]
        },
        {
          "data": {
            "text/html": [
              "<span class=\"tex2jax_ignore\"><div class=\"entities\" style=\"line-height: 2.5; direction: ltr\"> is there any train going from Paris to Marseille ?</div></span>"
            ],
            "text/plain": [
              "<IPython.core.display.HTML object>"
            ]
          },
          "metadata": {},
          "output_type": "display_data"
        },
        {
          "name": "stdout",
          "output_type": "stream",
          "text": [
            "NER itineraire : \n"
          ]
        },
        {
          "data": {
            "text/html": [
              "<span class=\"tex2jax_ignore\"><div class=\"entities\" style=\"line-height: 2.5; direction: ltr\"> is there any train going from Paris to Marseille ?</div></span>"
            ],
            "text/plain": [
              "<IPython.core.display.HTML object>"
            ]
          },
          "metadata": {},
          "output_type": "display_data"
        },
        {
          "name": "stdout",
          "output_type": "stream",
          "text": [
            "-----------------------------\n",
            "Triplets extraits : \n",
            "['1,Toulouse,bordeaux', '2,Tours,Port-Boulet', '3,Bordeaux,Tours', '4,Nantes,Montaigu', '5,NOT_TRIP', '0,NOT_TRIP', '7,NOT_FRENCH']\n",
            "\n",
            "\n",
            "**********************************************\n",
            "RESULTATS DE L'ANALYSE NLP :\n",
            "**********************************************\n",
            "___________________________\n",
            "Analyse des triplets prédits :\n",
            "triplet original : \n",
            "['1,TOULOUSE,BORDEAUX', '2,TOURS,PORT BOULET', '3,BORDEAUX,TOURS', '4,NANTES,MONTAIGU', '5,NOT TRIP', '0,NOT TRIP', '7,NOT FRENCH']\n",
            "triplet corrigé : 1,TOULOUSE,BORDEAUX\n",
            "triplet corrigé : 2,TOURS,PORT BOULET\n",
            "triplet corrigé : 3,BORDEAUX,TOURS\n",
            "triplet corrigé : 4,NANTES,MONTAIGU\n",
            "triplet corrigé : 5,NOT TRIP\n",
            "triplet corrigé : 0,NOT TRIP\n",
            "triplet corrigé : 7,NOT FRENCH\n",
            "triplets corrigés : \n",
            "['1,TOULOUSE,BORDEAUX', '2,TOURS,PORT BOULET', '3,BORDEAUX,TOURS', '4,NANTES,MONTAIGU', '5,NOT TRIP', '0,NOT TRIP', '7,NOT FRENCH']\n",
            "____________________________________________\n",
            "___________________________\n",
            "Analyse des triplets de référence :\n",
            "triplet original : \n",
            "['1,TOULOUSE,BORDEAUX', '2,TOURS,PORT BOULET', '3,BORDEAUX,TOURS', '4,NANTES,MONTAIGU', '5,NOT TRIP', '0,NOT TRIP', '7,NOT FRENCH']\n",
            "triplet corrigé : 1,TOULOUSE,BORDEAUX\n",
            "triplet corrigé : 2,TOURS,PORT BOULET\n",
            "triplet corrigé : 3,BORDEAUX,TOURS\n",
            "triplet corrigé : 4,NANTES,MONTAIGU\n",
            "triplet corrigé : 5,NOT TRIP\n",
            "triplet corrigé : 0,NOT TRIP\n",
            "triplet corrigé : 7,NOT FRENCH\n",
            "triplets corrigés : \n",
            "['1,TOULOUSE,BORDEAUX', '2,TOURS,PORT BOULET', '3,BORDEAUX,TOURS', '4,NANTES,MONTAIGU', '5,NOT TRIP', '0,NOT TRIP', '7,NOT FRENCH']\n",
            "____________________________________________\n",
            "___________________________\n",
            "___________________________\n",
            "\n",
            "++++++++++++++++++++++++++++++++++++++\n",
            "Taux de réussite : 100.0% : 0 erreurs sur 7 lignes.\n",
            "++++++++++++++++++++++++++++++++++++++\n",
            "\n"
          ]
        },
        {
          "data": {
            "image/png": "[encoded data removed]",
            "text/plain": [
              "<Figure size 640x480 with 1 Axes>"
            ]
          },
          "metadata": {},
          "output_type": "display_data"
        },
        {
          "name": "stdout",
          "output_type": "stream",
          "text": [
            "\n",
            "---------------------------------------------------\n",
            "Tableau récapitulatif : \n",
            "  id   departure departure predict  destination destination predict\n",
            "0  1    TOULOUSE          TOULOUSE     BORDEAUX            BORDEAUX\n",
            "1  2       TOURS             TOURS  PORT BOULET         PORT BOULET\n",
            "2  3    BORDEAUX          BORDEAUX        TOURS               TOURS\n",
            "3  4      NANTES            NANTES     MONTAIGU            MONTAIGU\n",
            "4  5    NOT TRIP          NOT TRIP                                 \n",
            "5  0    NOT TRIP          NOT TRIP                                 \n",
            "6  7  NOT FRENCH        NOT FRENCH                                 \n",
            "---------------------------------------------------\n",
            "\n"
          ]
        }
      ],
      "source": [
        "import spacy\n",
        "from spacy.tokens import DocBin\n",
        "from tqdm import tqdm # Affichage d'une barre de progression\n",
        "import difflib # Recherche de similarité entre deux chaînes de caractères\n",
        "import pandas as pd\n",
        "\n",
        "# Import des fonctions personnalisées qui seront utilisées dans ce notebook\n",
        "from modules_nlp.process_departure_destination import extract_departure_destination, process_dataset, compare_triplets, preprocess_triplets\n",
        "\n",
        "# Chargement du modèle entrainé\n",
        "nlp_itineraire = spacy.load(\"./model-best/\")\n",
        "\n",
        "# Chargement du modèle Français medium - Ce modèle sera utilisé pour la détection des langues\n",
        "nlp_fr = spacy.load(\"fr_core_news_md\")\n",
        "\n",
        "# Installation du package de détection de la langue\n",
        "! pip install spacy-langdetect \n",
        "\n",
        "from spacy.language import Language\n",
        "from spacy_langdetect import LanguageDetector\n",
        "\n",
        "\n",
        "@Language.factory('language_detector')\n",
        "def language_detector(nlp, name):\n",
        "    return LanguageDetector()\n",
        "\n",
        "# Ajouter LanguageDetector à la pipeline si ce n'est pas déjà le cas\n",
        "if 'language_detector' not in nlp_fr.pipe_names:\n",
        "    print(\"Ajout de LanguageDetector à la pipeline\")\n",
        "    nlp_fr.add_pipe('language_detector', last=True)\n",
        "    print(\"LanguageDetector ajouté à la pipeline\")\n",
        "\n",
        "\n",
        "def analyse_nlp(file_path_intput, file_path_output) :\n",
        "\n",
        "    print(\"___________________________\")\n",
        "    print(\"Lecture du fichier d'entrée :\")\n",
        "    with open(file_path_intput, 'r') as file:\n",
        "        content = file.read()\n",
        "        print(content)\n",
        "    print(\"___________________________\")\n",
        "\n",
        "    # Extraction des triplets de référence\n",
        "    with open(file_path_output, 'r', encoding='utf-8') as file:\n",
        "        # Ici on met chaque ligne du fichier dans une liste en supprimant le retour à la ligne ainsi que la virgule à la fin\n",
        "        referenceTriplets = [line.strip().rstrip(',') for line in file.readlines()]\n",
        "\n",
        "\n",
        "    outputTriplets = process_dataset(file_path_intput, nlp_fr, nlp_itineraire, True)\n",
        "\n",
        "\n",
        "    print(\"\")\n",
        "    print(\"\")\n",
        "    print(\"**********************************************\")\n",
        "    print(\"RESULTATS DE L'ANALYSE NLP :\")\n",
        "    print(\"**********************************************\")\n",
        "\n",
        "    print(\"___________________________\")\n",
        "    print(\"Analyse des triplets prédits :\")\n",
        "    preprocessed_outputTriplets = preprocess_triplets(outputTriplets)\n",
        "\n",
        "    print(\"___________________________\")\n",
        "    print(\"Analyse des triplets de référence :\")\n",
        "    preprocessed_referenceTriplets = preprocess_triplets(referenceTriplets)\n",
        "\n",
        "    print(\"___________________________\")\n",
        "    print(\"___________________________\")\n",
        "\n",
        "    \n",
        "    compare_triplets(preprocessed_outputTriplets, preprocessed_referenceTriplets)\n",
        "    # print(preprocessed_outputTriplets)\n",
        "\n",
        "## -----------------------------\n",
        "# lancement de l'analyse\n",
        "analyse_nlp(file_path_intput, file_path_output)"
      ]
    }
  ],
  "metadata": {
    "colab": {
      "name": "Custom NER with Spacy3",
      "provenance": []
    },
    "kernelspec": {
      "display_name": "Python 3",
      "name": "python3"
    },
    "language_info": {
      "codemirror_mode": {
        "name": "ipython",
        "version": 3
      },
      "file_extension": ".py",
      "mimetype": "text/x-python",
      "name": "python",
      "nbconvert_exporter": "python",
      "pygments_lexer": "ipython3",
      "version": "3.11.5"
    }
  },
  "nbformat": 4,
  "nbformat_minor": 0
}
