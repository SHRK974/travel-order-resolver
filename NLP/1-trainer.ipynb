{
  "cells": [
    {
      "cell_type": "markdown",
      "metadata": {},
      "source": [
        "# Notebook d'entrainement d'un modèle personnalisé"
      ]
    },
    {
      "cell_type": "markdown",
      "metadata": {},
      "source": [
        "### Import des dépendances"
      ]
    },
    {
      "cell_type": "code",
      "execution_count": 6,
      "metadata": {
        "colab": {
          "base_uri": "https://localhost:8080/"
        },
        "id": "VRGQF9p2VKss",
        "outputId": "205de197-2cd9-4255-ee1f-dde5dc86ebb8"
      },
      "outputs": [],
      "source": [
        "import spacy\n",
        "from spacy.tokens import DocBin\n",
        "from tqdm import tqdm\n",
        "\n",
        "nlp_fr = spacy.load(\"fr_core_news_md\")"
      ]
    },
    {
      "cell_type": "markdown",
      "metadata": {},
      "source": [
        "### Test de reconnaissance de NER sur un texte simple"
      ]
    },
    {
      "cell_type": "code",
      "execution_count": 7,
      "metadata": {},
      "outputs": [
        {
          "data": {
            "text/html": [
              "<span class=\"tex2jax_ignore\"><div class=\"entities\" style=\"line-height: 2.5; direction: ltr\">Je voudrais aller de \n",
              "<mark class=\"entity\" style=\"background: #ff9561; padding: 0.45em 0.6em; margin: 0 0.25em; line-height: 1; border-radius: 0.35em;\">\n",
              "    Toulouse\n",
              "    <span style=\"font-size: 0.8em; font-weight: bold; line-height: 1; border-radius: 0.35em; vertical-align: middle; margin-left: 0.5rem\">LOC</span>\n",
              "</mark>\n",
              " à \n",
              "<mark class=\"entity\" style=\"background: #ff9561; padding: 0.45em 0.6em; margin: 0 0.25em; line-height: 1; border-radius: 0.35em;\">\n",
              "    Bordeaux\n",
              "    <span style=\"font-size: 0.8em; font-weight: bold; line-height: 1; border-radius: 0.35em; vertical-align: middle; margin-left: 0.5rem\">LOC</span>\n",
              "</mark>\n",
              ".<br>Comment me rendre à \n",
              "<mark class=\"entity\" style=\"background: #ff9561; padding: 0.45em 0.6em; margin: 0 0.25em; line-height: 1; border-radius: 0.35em;\">\n",
              "    Port-Boulet\n",
              "    <span style=\"font-size: 0.8em; font-weight: bold; line-height: 1; border-radius: 0.35em; vertical-align: middle; margin-left: 0.5rem\">LOC</span>\n",
              "</mark>\n",
              " depuis la gare de \n",
              "<mark class=\"entity\" style=\"background: #ff9561; padding: 0.45em 0.6em; margin: 0 0.25em; line-height: 1; border-radius: 0.35em;\">\n",
              "    Tours\n",
              "    <span style=\"font-size: 0.8em; font-weight: bold; line-height: 1; border-radius: 0.35em; vertical-align: middle; margin-left: 0.5rem\">LOC</span>\n",
              "</mark>\n",
              " ?<br>Je veux aller voir mon ami \n",
              "<mark class=\"entity\" style=\"background: #ddd; padding: 0.45em 0.6em; margin: 0 0.25em; line-height: 1; border-radius: 0.35em;\">\n",
              "    Albert\n",
              "    <span style=\"font-size: 0.8em; font-weight: bold; line-height: 1; border-radius: 0.35em; vertical-align: middle; margin-left: 0.5rem\">PER</span>\n",
              "</mark>\n",
              " à \n",
              "<mark class=\"entity\" style=\"background: #ff9561; padding: 0.45em 0.6em; margin: 0 0.25em; line-height: 1; border-radius: 0.35em;\">\n",
              "    Tours\n",
              "    <span style=\"font-size: 0.8em; font-weight: bold; line-height: 1; border-radius: 0.35em; vertical-align: middle; margin-left: 0.5rem\">LOC</span>\n",
              "</mark>\n",
              " en partant de \n",
              "<mark class=\"entity\" style=\"background: #ff9561; padding: 0.45em 0.6em; margin: 0 0.25em; line-height: 1; border-radius: 0.35em;\">\n",
              "    Bordeaux\n",
              "    <span style=\"font-size: 0.8em; font-weight: bold; line-height: 1; border-radius: 0.35em; vertical-align: middle; margin-left: 0.5rem\">LOC</span>\n",
              "</mark>\n",
              ".</div></span>"
            ],
            "text/plain": [
              "<IPython.core.display.HTML object>"
            ]
          },
          "metadata": {},
          "output_type": "display_data"
        }
      ],
      "source": [
        "texte_simple = '''Je voudrais aller de Toulouse à Bordeaux.\n",
        "Comment me rendre à Port-Boulet depuis la gare de Tours ?\n",
        "Je veux aller voir mon ami Albert à Tours en partant de Bordeaux.'''\n",
        "doc = nlp_fr(texte_simple)\n",
        "\n",
        "spacy.displacy.render(doc, style=\"ent\", jupyter=True)"
      ]
    },
    {
      "cell_type": "markdown",
      "metadata": {},
      "source": [
        "Le modèle de base reconnait les NER \"LOC\" (localisation). Le but maintenant est d'entrainer un modèle qui puisse aller plus loin en reconnaissant si le NER est un départ ou une destination."
      ]
    },
    {
      "cell_type": "markdown",
      "metadata": {},
      "source": [
        "### Chargement du jeu de données pour l'entrainement"
      ]
    },
    {
      "cell_type": "markdown",
      "metadata": {},
      "source": [
        "Pour l'entrainement, nous utilisons un dataset composé de plusieurs phrases.\n",
        "La ville de départ (DEPARTURE) et la ville de destination (DESTINATION) sont identifiées pour chacune des phrases."
      ]
    },
    {
      "cell_type": "code",
      "execution_count": 8,
      "metadata": {
        "id": "ypmHuPYBZ7C0"
      },
      "outputs": [
        {
          "data": {
            "text/plain": [
              "{'classes': ['DEPARTURE', 'DESTINATION', 'ESCALE'],\n",
              " 'annotations': [['Je voudrais aller de Toulouse à Bordeaux.\\r',\n",
              "   {'entities': [[21, 29, 'DEPARTURE'], [32, 40, 'DESTINATION']]}],\n",
              "  ['Comment me rendre à Port-Boulet depuis la gare de Tours ?\\r',\n",
              "   {'entities': [[20, 31, 'DESTINATION'], [50, 55, 'DEPARTURE']]}],\n",
              "  ['Je veux aller voir mon ami Albert à Tours en partant de Bordeaux.\\r',\n",
              "   {'entities': [[36, 41, 'DESTINATION'], [56, 64, 'DEPARTURE']]}],\n",
              "  ['Y a-t-il des trains de Nantes à Montaigu ?\\r',\n",
              "   {'entities': [[23, 29, 'DEPARTURE'], [32, 40, 'DESTINATION']]}],\n",
              "  ['Une phrase sans origine ni destination.\\r', {'entities': []}],\n",
              "  [\"Si pas de numéro de séquence, on considère que c'est zéro\\r\",\n",
              "   {'entities': []}],\n",
              "  ['Is there any train going from Paris to Marseille ?\\r', {'entities': []}],\n",
              "  [' Je souhaite me rendre à Paris en partant de Toulouse\\r',\n",
              "   {'entities': [[25, 30, 'DESTINATION'], [45, 53, 'DEPARTURE']]}],\n",
              "  [' Je quitte Lyon pour aller à Marseille\\r',\n",
              "   {'entities': [[11, 15, 'DEPARTURE'], [29, 38, 'DESTINATION']]}],\n",
              "  [' En partant de Bordeaux, je veux me rendre à Lille\\r',\n",
              "   {'entities': [[15, 23, 'DEPARTURE'], [45, 50, 'DESTINATION']]}],\n",
              "  [' Nantes est ma ville de départ pour rejoindre Strasbourg\\r',\n",
              "   {'entities': [[1, 7, 'DEPARTURE'], [46, 56, 'DESTINATION']]}],\n",
              "  [' Je pars de Nice pour me rendre à Montpellier\\r',\n",
              "   {'entities': [[12, 16, 'DEPARTURE'], [34, 45, 'DESTINATION']]}],\n",
              "  [\" Rennes est d'où je pars pour aller à Toulon\\r\",\n",
              "   {'entities': [[1, 7, 'DEPARTURE'], [38, 44, 'DESTINATION']]}],\n",
              "  [' En partant de Nîmes, je veux rejoindre Angers\\r',\n",
              "   {'entities': [[15, 20, 'DEPARTURE'], [40, 46, 'DESTINATION']]}],\n",
              "  [' Je quitte Grenoble pour me rendre à Clermont-Ferrand\\r',\n",
              "   {'entities': [[11, 19, 'DEPARTURE'], [37, 53, 'DESTINATION']]}],\n",
              "  [' Je souhaite me rendre à Bordeaux en partant de Marseille\\r',\n",
              "   {'entities': [[25, 33, 'DESTINATION'], [48, 57, 'DEPARTURE']]}],\n",
              "  [' Je pars de Strasbourg pour rejoindre Lyon\\r',\n",
              "   {'entities': [[12, 22, 'DEPARTURE'], [38, 42, 'DESTINATION']]}],\n",
              "  [' Paris est ma ville de départ pour aller à Lille\\r',\n",
              "   {'entities': [[1, 6, 'DEPARTURE'], [43, 48, 'DESTINATION']]}],\n",
              "  [' Je quitte Montpellier pour me rendre à Toulouse\\r',\n",
              "   {'entities': [[11, 22, 'DEPARTURE'], [40, 48, 'DESTINATION']]}],\n",
              "  [' En partant de Marseille, je veux me rendre à Nice\\r',\n",
              "   {'entities': [[15, 24, 'DEPARTURE'], [46, 50, 'DESTINATION']]}],\n",
              "  [' Je pars de Lille pour rejoindre Rennes\\r',\n",
              "   {'entities': [[12, 17, 'DEPARTURE'], [33, 39, 'DESTINATION']]}],\n",
              "  [' Je souhaite me rendre à Lyon en partant de Toulon\\r',\n",
              "   {'entities': [[25, 29, 'DESTINATION'], [44, 50, 'DEPARTURE']]}],\n",
              "  [' Je quitte Clermont-Ferrand pour aller à Nîmes\\r',\n",
              "   {'entities': [[11, 27, 'DEPARTURE'], [41, 46, 'DESTINATION']]}],\n",
              "  [\" En partant d'Angers, je veux me rendre à Bordeaux\\r\",\n",
              "   {'entities': [[12, 20, 'DEPARTURE'], [42, 50, 'DESTINATION']]}],\n",
              "  [' Je pars de Toulouse pour rejoindre Paris\\r',\n",
              "   {'entities': [[12, 20, 'DEPARTURE'], [36, 41, 'DESTINATION']]}],\n",
              "  [' Nantes est ma ville de départ pour aller à Strasbourg\\r',\n",
              "   {'entities': [[1, 7, 'DEPARTURE'], [44, 54, 'DESTINATION']]}],\n",
              "  [' Je quitte Nice pour me rendre à Montpellier\\r',\n",
              "   {'entities': [[11, 15, 'DEPARTURE'], [33, 44, 'DESTINATION']]}],\n",
              "  [' Je désire me rendre à la majestueuse ville de Paris, en émanant de la belle cité de Toulouse\\r',\n",
              "   {'entities': [[47, 52, 'DESTINATION'], [85, 93, 'DEPARTURE']]}],\n",
              "  [' Je quitte la splendide cité de Lyon en vue de gagner la magnifique ville de Marseille\\r',\n",
              "   {'entities': [[32, 36, 'DEPARTURE'], [77, 86, 'DESTINATION']]}],\n",
              "  [' En provenance de la prestigieuse métropole bordelaise, je souhaite me diriger vers la charmante cité de Lille\\r',\n",
              "   {'entities': [[34, 54, 'DEPARTURE'], [105, 110, 'DESTINATION']]}],\n",
              "  [\" La ville de Nantes est mon point d'origine pour rejoindre la vénérable ville de Strasbourg\\r\",\n",
              "   {'entities': [[13, 19, 'DEPARTURE'], [81, 91, 'DESTINATION']]}],\n",
              "  [' Mon intention est de partir de la pittoresque ville de Nice pour rejoindre la séduisante cité de Montpellier\\r',\n",
              "   {'entities': [[56, 60, 'DEPARTURE'], [98, 109, 'DESTINATION']]}],\n",
              "  [\" J'entame mon périple depuis la distinguée ville de Rennes en direction de la ravissante cité de Toulon\\r\",\n",
              "   {'entities': [[52, 58, 'DEPARTURE'], [97, 103, 'DESTINATION']]}],\n",
              "  [\" En provenance de la historique cité de Nîmes, je désire me rendre à la distinguée ville d'Angers\\r\",\n",
              "   {'entities': [[40, 45, 'DEPARTURE'], [89, 97, 'DESTINATION']]}],\n",
              "  [\" J'entame mon voyage depuis la charmante cité de Grenoble en vue de me rendre à la pittoresque ville de Clermont-Ferrand\\r\",\n",
              "   {'entities': [[49, 57, 'DEPARTURE'], [104, 120, 'DESTINATION']]}],\n",
              "  [' Je souhaite me rendre à la noble ville de Bordeaux en quittant la belle cité de Marseille\\r',\n",
              "   {'entities': [[43, 51, 'DESTINATION'], [81, 90, 'DEPARTURE']]}],\n",
              "  [' Je pars de la glorieuse ville de Strasbourg en vue de rejoindre la prestigieuse cité de Lyon\\r',\n",
              "   {'entities': [[34, 44, 'DEPARTURE'], [89, 93, 'DESTINATION']]}],\n",
              "  [' Paris est ma ville de départ, où je démarre mon voyage en direction de la vénérable cité de Lille\\r',\n",
              "   {'entities': [[1, 6, 'DEPARTURE'], [93, 98, 'DESTINATION']]}],\n",
              "  [' Je quitte la somptueuse ville de Montpellier en vue de gagner la belle cité de Toulouse\\r',\n",
              "   {'entities': [[34, 45, 'DEPARTURE'], [80, 88, 'DESTINATION']]}],\n",
              "  [' En provenance de la charmante cité de Marseille, je désire me rendre à la magnifique ville de Nice\\r',\n",
              "   {'entities': [[39, 48, 'DEPARTURE'], [95, 99, 'DESTINATION']]}],\n",
              "  [\" Je m'éclipse de la ravissante cité de Lille en direction de la distinguée ville de Rennes\\r\",\n",
              "   {'entities': [[39, 44, 'DEPARTURE'], [84, 90, 'DESTINATION']]}],\n",
              "  [' Je souhaite me rendre à la prestigieuse cité de Lyon en partant de la séduisante ville de Toulon\\r',\n",
              "   {'entities': [[49, 53, 'DESTINATION'], [91, 97, 'DEPARTURE']]}],\n",
              "  [' Je quitte la noble ville de Clermont-Ferrand en vue de me rendre à la pittoresque ville de Nîmes\\r',\n",
              "   {'entities': [[29, 45, 'DEPARTURE'], [92, 97, 'DESTINATION']]}],\n",
              "  [\" En provenance de la distinguée ville d'Angers, je désire me rendre à la prestigieuse cité de Bordeaux\\r\",\n",
              "   {'entities': [[38, 46, 'DEPARTURE'], [94, 102, 'DESTINATION']]}],\n",
              "  [' Je pars de la charmante cité de Toulouse en vue de rejoindre la majestueuse ville de Paris\\r',\n",
              "   {'entities': [[33, 41, 'DEPARTURE'], [86, 91, 'DESTINATION']]}],\n",
              "  [' La ville de Nantes est mon point de départ pour me rendre à la vénérable cité de Strasbourg\\r',\n",
              "   {'entities': [[13, 19, 'DEPARTURE'], [82, 92, 'DESTINATION']]}],\n",
              "  [' Je quitte la magnifique ville de Nice en vue de me rendre à la pittoresque ville de Montpellier\\r',\n",
              "   {'entities': [[34, 38, 'DEPARTURE'], [85, 96, 'DESTINATION']]}],\n",
              "  [' Je souhaite me transporter de Marseille à Paris\\r',\n",
              "   {'entities': [[31, 40, 'DEPARTURE'], [43, 48, 'DESTINATION']]}],\n",
              "  [\" J'entends migrer de Bordeaux à Lyon\\r\",\n",
              "   {'entities': [[21, 29, 'DEPARTURE'], [32, 36, 'DESTINATION']]}],\n",
              "  [' Je prévois de voyager de Toulon à Strasbourg\\r',\n",
              "   {'entities': [[26, 32, 'DEPARTURE'], [35, 45, 'DESTINATION']]}],\n",
              "  [' Je désire me déplacer de Nantes à Marseille\\r',\n",
              "   {'entities': [[26, 32, 'DEPARTURE'], [35, 44, 'DESTINATION']]}],\n",
              "  [' Mon intention est de cheminer de Lyon à Toulouse\\r',\n",
              "   {'entities': [[34, 38, 'DEPARTURE'], [41, 49, 'DESTINATION']]}],\n",
              "  [' Je projette de transiter de Nice à Lille\\r',\n",
              "   {'entities': [[29, 33, 'DEPARTURE']]}],\n",
              "  [' Je compte me déplacer de Montpellier à Rennes\\r',\n",
              "   {'entities': [[26, 37, 'DEPARTURE'], [40, 46, 'DESTINATION']]}],\n",
              "  [\" J'envisage de transférer mon lieu de résidence de Strasbourg à Bordeaux\\r\",\n",
              "   {'entities': [[51, 61, 'DEPARTURE'], [64, 72, 'DESTINATION']]}],\n",
              "  [' Je médite sur un déplacement de Paris à Nîmes\\r',\n",
              "   {'entities': [[33, 38, 'DEPARTURE'], [41, 46, 'DESTINATION']]}],\n",
              "  [' Je songe à me rendre de Clermont-Ferrand à Angers\\r',\n",
              "   {'entities': [[25, 41, 'DEPARTURE'], [44, 50, 'DESTINATION']]}],\n",
              "  [\" Je prévois de me rendre à Paris depuis Toulouse pour assister à une conférence sur l'intelligence artificielle\\r\",\n",
              "   {'entities': [[27, 32, 'DESTINATION'], [40, 48, 'DEPARTURE']]}],\n",
              "  [' Mon ami Pierre et moi quittons Lyon pour une escapade à Marseille ce week-end\\r',\n",
              "   {'entities': [[32, 36, 'DEPARTURE'], [57, 66, 'DESTINATION']]}],\n",
              "  [\" En tant que représentant de l'entreprise Paris Transport, je pars de Bordeaux pour rencontrer nos partenaires à Lille\\r\",\n",
              "   {'entities': [[70, 78, 'DEPARTURE'], [113, 118, 'DESTINATION']]}],\n",
              "  [\" J'ai réservé un vol depuis Nantes pour me rendre à Strasbourg et rencontrer M. Toulon.\\r\",\n",
              "   {'entities': [[28, 34, 'DEPARTURE'], [52, 62, 'DESTINATION']]}],\n",
              "  [\" Je m'envole depuis Nice pour Montpellier afin de participer à un événement caritatif\\r\",\n",
              "   {'entities': [[20, 24, 'DEPARTURE'], [30, 41, 'DESTINATION']]}],\n",
              "  [\" Dans le cadre de mon travail, je dois quitter Rennes pour Toulon afin d'inspecter nos installations\\r\",\n",
              "   {'entities': [[47, 53, 'DEPARTURE'], [59, 65, 'DESTINATION']]}],\n",
              "  [\" En partant de Nîmes, je vais à Angers pour une réunion importante avec l'équipe de développement\\r\",\n",
              "   {'entities': [[15, 20, 'DEPARTURE'], [32, 38, 'DESTINATION']]}],\n",
              "  [' Mon collègue et moi quittons Grenoble pour Clermont-Ferrand afin de participer à une formation\\r',\n",
              "   {'entities': [[30, 38, 'DEPARTURE'], [44, 60, 'DESTINATION']]}],\n",
              "  [\" Je souhaite me rendre à Bordeaux depuis Marseille pour visiter le musée d'art contemporain\\r\",\n",
              "   {'entities': [[25, 33, 'DESTINATION'], [41, 50, 'DEPARTURE']]}],\n",
              "  [\" J'ai réservé un billet de train depuis Strasbourg pour Lyon, où je retrouverai l'écrivain célèbre Jean Clermont\\r\",\n",
              "   {'entities': [[40, 50, 'DEPARTURE'], [56, 60, 'DESTINATION']]}],\n",
              "  [' Le club de randonnée organise un voyage, et je pars de Paris pour rejoindre Lille avec le groupe Nice Hiking\\r',\n",
              "   {'entities': [[56, 61, 'DEPARTURE'], [77, 82, 'DESTINATION']]}],\n",
              "  [' Je quitte Montpellier pour Toulouse afin de célébrer le mariage de ma sœur Paris\\r',\n",
              "   {'entities': [[11, 22, 'DEPARTURE'], [28, 36, 'DESTINATION']]}],\n",
              "  [\" En tant que membre de l'orchestre, je pars de Marseille pour Nice, où nous donnerons un concert\\r\",\n",
              "   {'entities': [[47, 56, 'DEPARTURE'], [62, 66, 'DESTINATION']]}],\n",
              "  [\" J'ai été invité à une conférence à Lille, alors je pars de Rennes pour m'y rendre\\r\",\n",
              "   {'entities': [[36, 41, 'DESTINATION'], [60, 66, 'DEPARTURE']]}],\n",
              "  [' En partant de Toulon, je vais à Lyon pour rencontrer le fondateur de notre startup\\r',\n",
              "   {'entities': [[15, 21, 'DEPARTURE'], [33, 37, 'DESTINATION']]}],\n",
              "  [\" Je prévois de quitter Clermont-Ferrand pour Nîmes et rendre visite à mon ami d'enfance\\r\",\n",
              "   {'entities': [[23, 39, 'DEPARTURE'], [45, 50, 'DESTINATION']]}],\n",
              "  [' Je suis ravi de me rendre à Angers depuis Bordeaux pour participer à la course caritative\\r',\n",
              "   {'entities': [[29, 35, 'DESTINATION'], [43, 51, 'DEPARTURE']]}],\n",
              "  [\" J'ai un rendez-vous à Paris avec l'équipe de design, alors je quitte Nice pour la capitale\\r\",\n",
              "   {'entities': [[23, 28, 'DESTINATION'], [70, 74, 'DEPARTURE']]}],\n",
              "  [' En partant de Strasbourg, je vais à Montpellier pour rencontrer le consultant en marketing, Mme Martin\\r',\n",
              "   {'entities': [[15, 25, 'DEPARTURE'], [37, 48, 'DESTINATION']]}],\n",
              "  [' Je souhaite me rendre à Lyon depuis Grenoble pour assister à la pièce de théâtre de la compagnie théâtrale locale\\r',\n",
              "   {'entities': [[25, 29, 'DESTINATION'], [37, 45, 'DEPARTURE']]}],\n",
              "  [' Comment partir de Lyon pour aller à Bordeaux en train ?\\r',\n",
              "   {'entities': [[19, 23, 'DEPARTURE'], [37, 45, 'DESTINATION']]}],\n",
              "  [' Quel est le meilleur moyen de se rendre de Toulouse à Marseille en train ?\\r',\n",
              "   {'entities': [[44, 52, 'DEPARTURE'], [55, 64, 'DESTINATION']]}],\n",
              "  [' Comment faire pour me rendre de Paris à Nice en train ?\\r',\n",
              "   {'entities': [[33, 38, 'DEPARTURE'], [41, 45, 'DESTINATION']]}],\n",
              "  [' Existe-t-il un train direct de Bordeaux à Lyon ?\\r',\n",
              "   {'entities': [[32, 40, 'DEPARTURE'], [43, 47, 'DESTINATION']]}],\n",
              "  [' Comment se rendre de Marseille à Angers en train ?\\r',\n",
              "   {'entities': [[22, 31, 'DEPARTURE'], [34, 40, 'DESTINATION']]}],\n",
              "  [' Quels sont les tarifs pour un billet de train de Clermont-Ferrand à Nîmes ?\\r',\n",
              "   {'entities': [[50, 66, 'DEPARTURE'], [69, 74, 'DESTINATION']]}],\n",
              "  [' Comment planifier un voyage en train de Strasbourg à Paris ?\\r',\n",
              "   {'entities': [[41, 51, 'DEPARTURE'], [54, 59, 'DESTINATION']]}],\n",
              "  [' Y a-t-il des trains rapides de Lille à Paris ?\\r',\n",
              "   {'entities': [[32, 37, 'DEPARTURE'], [40, 45, 'DESTINATION']]}],\n",
              "  [' Comment puis-je rejoindre la gare de Lyon depuis le centre de Paris ?\\r',\n",
              "   {'entities': [[38, 42, 'DESTINATION'], [63, 68, 'DEPARTURE']]}],\n",
              "  [' Quelles options de transport en train sont disponibles de Nice à Rennes ?\\r',\n",
              "   {'entities': [[59, 63, 'DEPARTURE'], [66, 72, 'DESTINATION']]}],\n",
              "  [' Je découvre les musées de Paris\\r', {'entities': []}],\n",
              "  [\" J'apprécie une soirée à Nice\\r\", {'entities': []}],\n",
              "  [' Je me détends sur la plage de Cannes\\r', {'entities': []}],\n",
              "  [' Je visite les monuments historiques de Marseille\\r', {'entities': []}],\n",
              "  [' Je me balade dans les rues de Bordeaux\\r', {'entities': []}],\n",
              "  [' Je profite de la vie nocturne de Toulouse\\r', {'entities': []}],\n",
              "  [\" J'admire la vue depuis la Tour Eiffel à Paris\\r\", {'entities': []}],\n",
              "  [' Je me perds dans les quartiers animés de Lyon\\r', {'entities': []}],\n",
              "  [' Je flâne le long de la promenade des Anglais à Nice\\r', {'entities': []}],\n",
              "  [\" J'explore les parcs de Strasbourg\\r\", {'entities': []}],\n",
              "  [' I wish to go from Toulouse to Paris\\r', {'entities': []}],\n",
              "  [' Verlasse Lyon, um nach Marseille zu gehen\\r', {'entities': []}],\n",
              "  [' Salgo de Burdeos para ir a Estrasburgo\\r', {'entities': []}],\n",
              "  [' Sto partendo da Nizza per andare a Montpellier\\r', {'entities': []}],\n",
              "  [' Verlaat Bordeaux om naar Lille te gaan\\r', {'entities': []}],\n",
              "  [' Ich möchte von Nîmes nach Angers reisen\\r', {'entities': []}],\n",
              "  [' Estoy saliendo de Grenoble para ir a Clermont-Ferrand\\r',\n",
              "   {'entities': []}],\n",
              "  [' Sono in partenza da Marsiglia per andare a Bordeaux\\r', {'entities': []}],\n",
              "  [' Jag lämnar Toulouse för att åka till Paris\\r', {'entities': []}],\n",
              "  [\" J'adore passer du temps à lire\\r\", {'entities': []}],\n",
              "  [' Les voyages forment la jeunesse\\r', {'entities': []}],\n",
              "  [' La musique apaise mon âme\\r', {'entities': []}],\n",
              "  [' Les amis sont comme une deuxième famille\\r', {'entities': []}],\n",
              "  [' Le sport est une excellente façon de rester en forme\\r',\n",
              "   {'entities': []}],\n",
              "  [' La nature est belle et apaisante\\r', {'entities': []}],\n",
              "  [' La cuisine française est réputée pour sa délicatesse\\r',\n",
              "   {'entities': []}],\n",
              "  [' Apprendre une nouvelle langue est enrichissant\\r', {'entities': []}],\n",
              "  [' Rire est le meilleur remède\\r', {'entities': []}],\n",
              "  [' La technologie a transformé nos vies\\r', {'entities': []}],\n",
              "  ['Peut-être que ce week-end je prendrais un train Strasbourg - Paris.\\r',\n",
              "   {'entities': [[48, 58, 'DEPARTURE'], [61, 66, 'DESTINATION']]}],\n",
              "  ['Je vais faire le trajet Marseille / Bordeaux demain.\\r',\n",
              "   {'entities': [[24, 33, 'DEPARTURE'], [36, 44, 'DESTINATION']]}],\n",
              "  ['Mon parcours Lyon - Bretagne est déjà planifié.\\r',\n",
              "   {'entities': [[13, 17, 'DEPARTURE'], [20, 28, 'DESTINATION']]}],\n",
              "  ['Voici mon prochain voyage : Clermont-Ferrand Nantes.\\r',\n",
              "   {'entities': [[28, 44, 'DEPARTURE'], [45, 51, 'DESTINATION']]}],\n",
              "  ['Faire Nice - Angers en voiture me semble long.\\r',\n",
              "   {'entities': [[6, 10, 'DEPARTURE'], [13, 19, 'DESTINATION']]}],\n",
              "  [\"Je prends la voiture demain pour l'itinéraire Tours / Metz.\\r\",\n",
              "   {'entities': [[46, 51, 'DEPARTURE'], [54, 58, 'DESTINATION']]}],\n",
              "  ['Mon frère va conduire le trajet Amiens / Nancy pour se rendre à une conférence.\\r',\n",
              "   {'entities': [[32, 38, 'DEPARTURE'], [41, 46, 'DESTINATION']]}],\n",
              "  [\"Est-ce qu'il y a un train Brest - Rouen la semaine prochaine ?\\r\",\n",
              "   {'entities': [[26, 31, 'DEPARTURE'], [34, 39, 'DESTINATION']]}],\n",
              "  ['Je fais Brest Cologne pour le travail.\\r',\n",
              "   {'entities': [[8, 13, 'DEPARTURE'], [14, 21, 'DESTINATION']]}],\n",
              "  [\"Mon ami a quitté Lyon pour aller s'acheter un nouvel iPhone de la marque Apple à Paris\\r\",\n",
              "   {'entities': [[17, 21, 'DEPARTURE'], [81, 86, 'DESTINATION']]}],\n",
              "  ['Je me prépare pour le Grand Marathon La Rochelle Orléans.\\r',\n",
              "   {'entities': [[37, 48, 'DEPARTURE'], [49, 56, 'DESTINATION']]}],\n",
              "  ['Courir à pieds Hyères Créteil va me prendre beaucoup de temps.\\r',\n",
              "   {'entities': [[15, 21, 'DEPARTURE'], [22, 29, 'DESTINATION']]}],\n",
              "  ['Je compte quitter Aubervilliers pour me rendre à Tourcoing acheter un PC de la marque LENOVO.',\n",
              "   {'entities': [[18, 31, 'DEPARTURE'], [49, 58, 'DESTINATION']]}],\n",
              "  [' En partant de Nîmes, je veux rejoindre Angers en passant par Bordeaux.\\r',\n",
              "   {'entities': [[15, 20, 'DEPARTURE'],\n",
              "     [40, 46, 'DESTINATION'],\n",
              "     [62, 70, 'ESCALE']]}],\n",
              "  [' Je quitte Grenoble pour me rendre à Clermont-Ferrand en faisant une escale à Nice.\\r',\n",
              "   {'entities': [[11, 19, 'DEPARTURE'],\n",
              "     [37, 53, 'DESTINATION'],\n",
              "     [78, 82, 'ESCALE']]}],\n",
              "  [' Je souhaite me rendre à Bordeaux en partant de Marseille avec un arrêt à Toulon.\\r',\n",
              "   {'entities': [[25, 33, 'DESTINATION'],\n",
              "     [48, 57, 'DEPARTURE'],\n",
              "     [74, 80, 'ESCALE']]}],\n",
              "  [\" Je pars de Strasbourg, je passe par Toulouse et je m'arrête à Lyon.\\r\",\n",
              "   {'entities': [[12, 22, 'DEPARTURE'],\n",
              "     [37, 45, 'ESCALE'],\n",
              "     [63, 67, 'DESTINATION']]}],\n",
              "  [' Paris est ma ville de départ pour aller à Lille en passant par Brest.\\r',\n",
              "   {'entities': [[1, 6, 'DEPARTURE'],\n",
              "     [43, 48, 'DESTINATION'],\n",
              "     [64, 69, 'ESCALE']]}],\n",
              "  [' Je quitte Montpellier pour me rendre à Orléans, puis à Toulouse.\\r',\n",
              "   {'entities': [[11, 22, 'DEPARTURE'],\n",
              "     [40, 47, 'ESCALE'],\n",
              "     [56, 64, 'DESTINATION']]}],\n",
              "  [' En partant de Marseille, je veux me rendre Toulon puis à Nice.\\r',\n",
              "   {'entities': [[15, 24, 'DEPARTURE'],\n",
              "     [44, 50, 'ESCALE'],\n",
              "     [58, 62, 'DESTINATION']]}],\n",
              "  [' Je pars de Lille pour rejoindre Rennes en passant par Tourcoing.\\r',\n",
              "   {'entities': [[12, 17, 'DEPARTURE'],\n",
              "     [33, 39, 'DESTINATION'],\n",
              "     [55, 64, 'ESCALE']]}],\n",
              "  [' Je souhaite me rendre à Lyon en passant par Rennes et en partant de Toulon.\\r',\n",
              "   {'entities': [[25, 29, 'DESTINATION'],\n",
              "     [45, 51, 'ESCALE'],\n",
              "     [69, 75, 'DEPARTURE']]}],\n",
              "  [' Je quitte Clermont-Ferrand pour aller à Nîmes en faisant une escale à Paris.\\r',\n",
              "   {'entities': [[11, 27, 'DEPARTURE'],\n",
              "     [41, 46, 'DESTINATION'],\n",
              "     [71, 76, 'ESCALE']]}],\n",
              "  [\" En partant d'Angers, je veux me rendre à Bordeaux après avoir séjourné chez ma sœur à Metz.\\r\",\n",
              "   {'entities': [[12, 20, 'DEPARTURE'],\n",
              "     [42, 50, 'DESTINATION'],\n",
              "     [87, 91, 'ESCALE']]}],\n",
              "  [' Je pars de Toulouse, je récupère mon frère à Annecy et on se rend à Paris.\\r',\n",
              "   {'entities': [[12, 20, 'DEPARTURE'],\n",
              "     [46, 52, 'ESCALE'],\n",
              "     [69, 74, 'DESTINATION']]}],\n",
              "  ['Je veux me rendre à Rome en quittant Paris.\\r',\n",
              "   {'entities': [[20, 24, 'DESTINATION'], [37, 42, 'DEPARTURE']]}],\n",
              "  ['Je veux aller à Brest en démarrant de Bordeaux.\\r',\n",
              "   {'entities': [[16, 21, 'DESTINATION'], [38, 46, 'DEPARTURE']]}],\n",
              "  ['Je compte visiter un musée à Lille en quittant Angers.\\r',\n",
              "   {'entities': [[29, 34, 'DESTINATION'], [47, 53, 'DEPARTURE']]}],\n",
              "  ['Je dois regarder les trains\\xa0Toulouse - Brest\\xa0pour aller voir mon ami Albert.\\r',\n",
              "   {'entities': [[28, 36, 'DEPARTURE'], [39, 44, 'DESTINATION']]}],\n",
              "  ['Je dois planifier un voyage Nice\\xa0Toulouse\\xa0pour les prochaines vacances.\\r',\n",
              "   {'entities': [[28, 32, 'DEPARTURE'], [33, 41, 'DESTINATION']]}],\n",
              "  ['Je dois planifier un voyage Nice Toulouse en passant par\\xa0Aubervilliers\\xa0pour les prochaines vacances.\\r',\n",
              "   {'entities': [[28, 32, 'DEPARTURE'],\n",
              "     [33, 41, 'DESTINATION'],\n",
              "     [57, 70, 'ESCALE']]}],\n",
              "  [\"Une réunion de travail m'oblige à faire\\xa0Paris\\xa0-\\xa0Clermont-Ferrand\\xa0en m'arrêtant à\\xa0Lyon\\xa0la semaine prochaine.\\r\",\n",
              "   {'entities': [[40, 45, 'DEPARTURE'],\n",
              "     [48, 64, 'DESTINATION'],\n",
              "     [81, 85, 'ESCALE']]}]]}"
            ]
          },
          "execution_count": 8,
          "metadata": {},
          "output_type": "execute_result"
        }
      ],
      "source": [
        "import json\n",
        "f = open('./datasets/training_data.json')\n",
        "TRAIN_DATA = json.load(f)\n",
        "TRAIN_DATA"
      ]
    },
    {
      "cell_type": "code",
      "execution_count": 9,
      "metadata": {},
      "outputs": [],
      "source": [
        "# !python -m spacy download fr_core_news_md # Décommenter pour installer le modèle"
      ]
    },
    {
      "cell_type": "markdown",
      "metadata": {},
      "source": [
        "### Conversion du dataset au format attendu par spaCy"
      ]
    },
    {
      "cell_type": "code",
      "execution_count": 10,
      "metadata": {},
      "outputs": [
        {
          "name": "stderr",
          "output_type": "stream",
          "text": [
            "100%|██████████| 148/148 [00:00<00:00, 3363.57it/s]\n"
          ]
        }
      ],
      "source": [
        "from random import shuffle\n",
        "\n",
        "\n",
        "db = DocBin() # Le DocBin est un conteneur pour les documents dans spaCy\n",
        "\n",
        "# Mélange des données pour éviter un apprentissage biaisé\n",
        "shuffle(TRAIN_DATA['annotations'])\n",
        "\n",
        "# Conversion des données au format spaCy\n",
        "for text, annot in tqdm(TRAIN_DATA['annotations']): \n",
        "    doc = nlp_fr.make_doc(text) \n",
        "    ents = []\n",
        "    for start, end, label in annot[\"entities\"]:\n",
        "        span = doc.char_span(start, end, label=label, alignment_mode=\"contract\")\n",
        "        if span is None:\n",
        "            print(\"Skipping entity\")\n",
        "        else:\n",
        "            ents.append(span)\n",
        "    doc.ents = ents \n",
        "    db.add(doc)\n",
        "\n",
        "db.to_disk(\"./training_data.spacy\")"
      ]
    },
    {
      "cell_type": "markdown",
      "metadata": {},
      "source": [
        "### Entrainement du modèle"
      ]
    },
    {
      "cell_type": "code",
      "execution_count": 11,
      "metadata": {
        "colab": {
          "base_uri": "https://localhost:8080/"
        },
        "id": "SECGYS_KVUHF",
        "outputId": "52cec175-2d54-406d-cd06-a12d659009a7"
      },
      "outputs": [
        {
          "name": "stdout",
          "output_type": "stream",
          "text": [
            "\u001b[38;5;4mℹ Generated config template specific for your use case\u001b[0m\n",
            "- Language: fr\n",
            "- Pipeline: ner\n",
            "- Optimize for: efficiency\n",
            "- Hardware: CPU\n",
            "- Transformer: None\n",
            "\u001b[38;5;2m✔ Auto-filled config with all values\u001b[0m\n",
            "\u001b[38;5;2m✔ Saved config\u001b[0m\n",
            "config.cfg\n",
            "You can now add your data and train your pipeline:\n",
            "python -m spacy train config.cfg --paths.train ./train.spacy --paths.dev ./dev.spacy\n"
          ]
        }
      ],
      "source": [
        "# Cette commande permet de créer un fichier de configuration pour l'entraînement\n",
        "! python -m spacy init config config.cfg --lang fr --pipeline ner --optimize efficiency --force"
      ]
    },
    {
      "cell_type": "code",
      "execution_count": 12,
      "metadata": {
        "colab": {
          "base_uri": "https://localhost:8080/"
        },
        "id": "sT82H_hqWaGP",
        "outputId": "116c82f1-1c8d-469c-bfa1-a816fa7cb896"
      },
      "outputs": [
        {
          "name": "stdout",
          "output_type": "stream",
          "text": [
            "\u001b[38;5;4mℹ Saving to output directory: .\u001b[0m\n",
            "\u001b[38;5;4mℹ Using CPU\u001b[0m\n",
            "\u001b[1m\n",
            "=========================== Initializing pipeline ===========================\u001b[0m\n",
            "\u001b[38;5;2m✔ Initialized pipeline\u001b[0m\n",
            "\u001b[1m\n",
            "============================= Training pipeline =============================\u001b[0m\n",
            "\u001b[38;5;4mℹ Pipeline: ['tok2vec', 'ner']\u001b[0m\n",
            "\u001b[38;5;4mℹ Initial learn rate: 0.001\u001b[0m\n",
            "E    #       LOSS TOK2VEC  LOSS NER  ENTS_F  ENTS_P  ENTS_R  SCORE \n",
            "---  ------  ------------  --------  ------  ------  ------  ------\n",
            "  0       0          0.00     57.00    0.00    0.00    0.00    0.00\n",
            "  9     200         96.12   1601.36   96.34   95.95   96.73    0.96\n",
            " 21     400         82.23    192.39   99.18   99.18   99.18    0.99\n",
            " 35     600         55.33     90.84   99.59   99.59   99.59    1.00\n",
            " 53     800         70.71     56.23   99.59   99.59   99.59    1.00\n",
            " 75    1000         43.39     47.48   99.59   99.59   99.59    1.00\n",
            "102    1200        120.32     74.60   99.39   99.19   99.59    0.99\n",
            "134    1400        108.38     76.01   99.59   99.59   99.59    1.00\n",
            "173    1600         64.48     76.43   99.59   99.59   99.59    1.00\n",
            "221    1800         93.07     82.59   99.59   99.59   99.59    1.00\n",
            "279    2000         72.99     97.24   99.59   99.59   99.59    1.00\n",
            "346    2200         67.66     99.61   99.59   99.59   99.59    1.00\n",
            "\u001b[38;5;2m✔ Saved pipeline to output directory\u001b[0m\n",
            "model-last\n"
          ]
        }
      ],
      "source": [
        "# Lancement de l'entrainement\n",
        "! python -m spacy train config.cfg --output ./ --paths.train ./training_data.spacy --paths.dev ./training_data.spacy"
      ]
    },
    {
      "cell_type": "markdown",
      "metadata": {},
      "source": [
        "### Chargement et test du modèle"
      ]
    },
    {
      "cell_type": "code",
      "execution_count": 21,
      "metadata": {
        "id": "8zljPkppcy_w"
      },
      "outputs": [],
      "source": [
        "# Chargement du modèle customisé\n",
        "nlp_itineraire = spacy.load(\"./model-best/\")\n",
        "\n",
        "# Nous définissons ici les couleurs pour les entités (utilisées lors du rendu avec displacy)\n",
        "colors = {\"DEPARTURE\": \"#ffe899\", \"DESTINATION\": \"#b1ff5e\", \"ESCALE\": \"#82b8ff\"}\n",
        "options = {\"ents\": [\"DEPARTURE\", \"DESTINATION\", \"ESCALE\"], \"colors\": colors}"
      ]
    },
    {
      "cell_type": "markdown",
      "metadata": {},
      "source": [
        "Identification des NER avec le modèle entrainé"
      ]
    },
    {
      "cell_type": "code",
      "execution_count": 22,
      "metadata": {},
      "outputs": [
        {
          "data": {
            "text/html": [
              "<span class=\"tex2jax_ignore\"><div class=\"entities\" style=\"line-height: 2.5; direction: ltr\">Je voudrais aller de \n",
              "<mark class=\"entity\" style=\"background: #ffe899; padding: 0.45em 0.6em; margin: 0 0.25em; line-height: 1; border-radius: 0.35em;\">\n",
              "    Toulouse\n",
              "    <span style=\"font-size: 0.8em; font-weight: bold; line-height: 1; border-radius: 0.35em; vertical-align: middle; margin-left: 0.5rem\">DEPARTURE</span>\n",
              "</mark>\n",
              " à \n",
              "<mark class=\"entity\" style=\"background: #b1ff5e; padding: 0.45em 0.6em; margin: 0 0.25em; line-height: 1; border-radius: 0.35em;\">\n",
              "    Bordeaux\n",
              "    <span style=\"font-size: 0.8em; font-weight: bold; line-height: 1; border-radius: 0.35em; vertical-align: middle; margin-left: 0.5rem\">DESTINATION</span>\n",
              "</mark>\n",
              ".<br>Comment me rendre à \n",
              "<mark class=\"entity\" style=\"background: #b1ff5e; padding: 0.45em 0.6em; margin: 0 0.25em; line-height: 1; border-radius: 0.35em;\">\n",
              "    Port-Boulet\n",
              "    <span style=\"font-size: 0.8em; font-weight: bold; line-height: 1; border-radius: 0.35em; vertical-align: middle; margin-left: 0.5rem\">DESTINATION</span>\n",
              "</mark>\n",
              " depuis la gare de \n",
              "<mark class=\"entity\" style=\"background: #ffe899; padding: 0.45em 0.6em; margin: 0 0.25em; line-height: 1; border-radius: 0.35em;\">\n",
              "    Tours\n",
              "    <span style=\"font-size: 0.8em; font-weight: bold; line-height: 1; border-radius: 0.35em; vertical-align: middle; margin-left: 0.5rem\">DEPARTURE</span>\n",
              "</mark>\n",
              " ?<br>Je veux aller voir mon ami Albert à \n",
              "<mark class=\"entity\" style=\"background: #b1ff5e; padding: 0.45em 0.6em; margin: 0 0.25em; line-height: 1; border-radius: 0.35em;\">\n",
              "    Tours\n",
              "    <span style=\"font-size: 0.8em; font-weight: bold; line-height: 1; border-radius: 0.35em; vertical-align: middle; margin-left: 0.5rem\">DESTINATION</span>\n",
              "</mark>\n",
              " en partant de \n",
              "<mark class=\"entity\" style=\"background: #ffe899; padding: 0.45em 0.6em; margin: 0 0.25em; line-height: 1; border-radius: 0.35em;\">\n",
              "    Bordeaux\n",
              "    <span style=\"font-size: 0.8em; font-weight: bold; line-height: 1; border-radius: 0.35em; vertical-align: middle; margin-left: 0.5rem\">DEPARTURE</span>\n",
              "</mark>\n",
              ".</div></span>"
            ],
            "text/plain": [
              "<IPython.core.display.HTML object>"
            ]
          },
          "metadata": {},
          "output_type": "display_data"
        }
      ],
      "source": [
        "doc2 = nlp_itineraire(texte_simple)\n",
        "spacy.displacy.render(doc2, style=\"ent\", options=options, jupyter=True)"
      ]
    },
    {
      "cell_type": "markdown",
      "metadata": {},
      "source": [
        "Pour mémoire : identification des NER avec le modèle de base."
      ]
    },
    {
      "cell_type": "code",
      "execution_count": 23,
      "metadata": {},
      "outputs": [
        {
          "data": {
            "text/html": [
              "<span class=\"tex2jax_ignore\"><div class=\"entities\" style=\"line-height: 2.5; direction: ltr\">Je voudrais aller de \n",
              "<mark class=\"entity\" style=\"background: #ff9561; padding: 0.45em 0.6em; margin: 0 0.25em; line-height: 1; border-radius: 0.35em;\">\n",
              "    Toulouse\n",
              "    <span style=\"font-size: 0.8em; font-weight: bold; line-height: 1; border-radius: 0.35em; vertical-align: middle; margin-left: 0.5rem\">LOC</span>\n",
              "</mark>\n",
              " à \n",
              "<mark class=\"entity\" style=\"background: #ff9561; padding: 0.45em 0.6em; margin: 0 0.25em; line-height: 1; border-radius: 0.35em;\">\n",
              "    Bordeaux\n",
              "    <span style=\"font-size: 0.8em; font-weight: bold; line-height: 1; border-radius: 0.35em; vertical-align: middle; margin-left: 0.5rem\">LOC</span>\n",
              "</mark>\n",
              ".<br>Comment me rendre à \n",
              "<mark class=\"entity\" style=\"background: #ff9561; padding: 0.45em 0.6em; margin: 0 0.25em; line-height: 1; border-radius: 0.35em;\">\n",
              "    Port-Boulet\n",
              "    <span style=\"font-size: 0.8em; font-weight: bold; line-height: 1; border-radius: 0.35em; vertical-align: middle; margin-left: 0.5rem\">LOC</span>\n",
              "</mark>\n",
              " depuis la gare de \n",
              "<mark class=\"entity\" style=\"background: #ff9561; padding: 0.45em 0.6em; margin: 0 0.25em; line-height: 1; border-radius: 0.35em;\">\n",
              "    Tours\n",
              "    <span style=\"font-size: 0.8em; font-weight: bold; line-height: 1; border-radius: 0.35em; vertical-align: middle; margin-left: 0.5rem\">LOC</span>\n",
              "</mark>\n",
              " ?<br>Je veux aller voir mon ami \n",
              "<mark class=\"entity\" style=\"background: #ddd; padding: 0.45em 0.6em; margin: 0 0.25em; line-height: 1; border-radius: 0.35em;\">\n",
              "    Albert\n",
              "    <span style=\"font-size: 0.8em; font-weight: bold; line-height: 1; border-radius: 0.35em; vertical-align: middle; margin-left: 0.5rem\">PER</span>\n",
              "</mark>\n",
              " à \n",
              "<mark class=\"entity\" style=\"background: #ff9561; padding: 0.45em 0.6em; margin: 0 0.25em; line-height: 1; border-radius: 0.35em;\">\n",
              "    Tours\n",
              "    <span style=\"font-size: 0.8em; font-weight: bold; line-height: 1; border-radius: 0.35em; vertical-align: middle; margin-left: 0.5rem\">LOC</span>\n",
              "</mark>\n",
              " en partant de \n",
              "<mark class=\"entity\" style=\"background: #ff9561; padding: 0.45em 0.6em; margin: 0 0.25em; line-height: 1; border-radius: 0.35em;\">\n",
              "    Bordeaux\n",
              "    <span style=\"font-size: 0.8em; font-weight: bold; line-height: 1; border-radius: 0.35em; vertical-align: middle; margin-left: 0.5rem\">LOC</span>\n",
              "</mark>\n",
              ".</div></span>"
            ],
            "text/plain": [
              "<IPython.core.display.HTML object>"
            ]
          },
          "metadata": {},
          "output_type": "display_data"
        }
      ],
      "source": [
        "doc = nlp_fr(texte_simple)\n",
        "spacy.displacy.render(doc, style=\"ent\", jupyter=True)"
      ]
    },
    {
      "cell_type": "markdown",
      "metadata": {},
      "source": [
        "Test du modèle sur un texte plus compliqué"
      ]
    },
    {
      "cell_type": "code",
      "execution_count": 24,
      "metadata": {
        "id": "GTbWEZ9Cc9b4"
      },
      "outputs": [
        {
          "data": {
            "text/html": [
              "<span class=\"tex2jax_ignore\"><div class=\"entities\" style=\"line-height: 2.5; direction: ltr\">Je souhaite me rendre à \n",
              "<mark class=\"entity\" style=\"background: #b1ff5e; padding: 0.45em 0.6em; margin: 0 0.25em; line-height: 1; border-radius: 0.35em;\">\n",
              "    Lille\n",
              "    <span style=\"font-size: 0.8em; font-weight: bold; line-height: 1; border-radius: 0.35em; vertical-align: middle; margin-left: 0.5rem\">DESTINATION</span>\n",
              "</mark>\n",
              " en partant \n",
              "<mark class=\"entity\" style=\"background: #ffe899; padding: 0.45em 0.6em; margin: 0 0.25em; line-height: 1; border-radius: 0.35em;\">\n",
              "    d'Aubervilliers\n",
              "    <span style=\"font-size: 0.8em; font-weight: bold; line-height: 1; border-radius: 0.35em; vertical-align: middle; margin-left: 0.5rem\">DEPARTURE</span>\n",
              "</mark>\n",
              " pour assister à une conférence.<br>Je compte me rendre à \n",
              "<mark class=\"entity\" style=\"background: #b1ff5e; padding: 0.45em 0.6em; margin: 0 0.25em; line-height: 1; border-radius: 0.35em;\">\n",
              "    Bordeaux\n",
              "    <span style=\"font-size: 0.8em; font-weight: bold; line-height: 1; border-radius: 0.35em; vertical-align: middle; margin-left: 0.5rem\">DESTINATION</span>\n",
              "</mark>\n",
              " depuis \n",
              "<mark class=\"entity\" style=\"background: #ffe899; padding: 0.45em 0.6em; margin: 0 0.25em; line-height: 1; border-radius: 0.35em;\">\n",
              "    Marseille\n",
              "    <span style=\"font-size: 0.8em; font-weight: bold; line-height: 1; border-radius: 0.35em; vertical-align: middle; margin-left: 0.5rem\">DEPARTURE</span>\n",
              "</mark>\n",
              " pour rendre visite à ma soeur Paris.<br>Je dois regarder les trains \n",
              "<mark class=\"entity\" style=\"background: #ffe899; padding: 0.45em 0.6em; margin: 0 0.25em; line-height: 1; border-radius: 0.35em;\">\n",
              "    Toulouse\n",
              "    <span style=\"font-size: 0.8em; font-weight: bold; line-height: 1; border-radius: 0.35em; vertical-align: middle; margin-left: 0.5rem\">DEPARTURE</span>\n",
              "</mark>\n",
              " - \n",
              "<mark class=\"entity\" style=\"background: #b1ff5e; padding: 0.45em 0.6em; margin: 0 0.25em; line-height: 1; border-radius: 0.35em;\">\n",
              "    Brest\n",
              "    <span style=\"font-size: 0.8em; font-weight: bold; line-height: 1; border-radius: 0.35em; vertical-align: middle; margin-left: 0.5rem\">DESTINATION</span>\n",
              "</mark>\n",
              " pour aller voir mon ami Albert.<br>Je dois planifier un voyage \n",
              "<mark class=\"entity\" style=\"background: #ffe899; padding: 0.45em 0.6em; margin: 0 0.25em; line-height: 1; border-radius: 0.35em;\">\n",
              "    Nice\n",
              "    <span style=\"font-size: 0.8em; font-weight: bold; line-height: 1; border-radius: 0.35em; vertical-align: middle; margin-left: 0.5rem\">DEPARTURE</span>\n",
              "</mark>\n",
              " \n",
              "<mark class=\"entity\" style=\"background: #b1ff5e; padding: 0.45em 0.6em; margin: 0 0.25em; line-height: 1; border-radius: 0.35em;\">\n",
              "    Toulouse\n",
              "    <span style=\"font-size: 0.8em; font-weight: bold; line-height: 1; border-radius: 0.35em; vertical-align: middle; margin-left: 0.5rem\">DESTINATION</span>\n",
              "</mark>\n",
              " pour les prochaines vacances.<br>Une réunion de travail m'oblige à faire \n",
              "<mark class=\"entity\" style=\"background: #ffe899; padding: 0.45em 0.6em; margin: 0 0.25em; line-height: 1; border-radius: 0.35em;\">\n",
              "    Paris\n",
              "    <span style=\"font-size: 0.8em; font-weight: bold; line-height: 1; border-radius: 0.35em; vertical-align: middle; margin-left: 0.5rem\">DEPARTURE</span>\n",
              "</mark>\n",
              " - \n",
              "<mark class=\"entity\" style=\"background: #b1ff5e; padding: 0.45em 0.6em; margin: 0 0.25em; line-height: 1; border-radius: 0.35em;\">\n",
              "    Clermont-Ferrand\n",
              "    <span style=\"font-size: 0.8em; font-weight: bold; line-height: 1; border-radius: 0.35em; vertical-align: middle; margin-left: 0.5rem\">DESTINATION</span>\n",
              "</mark>\n",
              " la semaine prochaine.</div></span>"
            ],
            "text/plain": [
              "<IPython.core.display.HTML object>"
            ]
          },
          "metadata": {},
          "output_type": "display_data"
        }
      ],
      "source": [
        "texte_complique = '''Je souhaite me rendre à Lille en partant d'Aubervilliers pour assister à une conférence.\n",
        "Je compte me rendre à Bordeaux depuis Marseille pour rendre visite à ma soeur Paris.\n",
        "Je dois regarder les trains Toulouse - Brest pour aller voir mon ami Albert.\n",
        "Je dois planifier un voyage Nice Toulouse pour les prochaines vacances.\n",
        "Une réunion de travail m'oblige à faire Paris - Clermont-Ferrand la semaine prochaine.'''\n",
        "doc3 = nlp_itineraire(texte_complique) # input sample text\n",
        "\n",
        "spacy.displacy.render(doc3, style=\"ent\", options=options, jupyter=True)"
      ]
    },
    {
      "cell_type": "markdown",
      "metadata": {},
      "source": [
        "Test du modèle sur un texte comprenant des escales"
      ]
    },
    {
      "cell_type": "code",
      "execution_count": 25,
      "metadata": {},
      "outputs": [
        {
          "data": {
            "text/html": [
              "<span class=\"tex2jax_ignore\"><div class=\"entities\" style=\"line-height: 2.5; direction: ltr\">Je souhaite me rendre à \n",
              "<mark class=\"entity\" style=\"background: #b1ff5e; padding: 0.45em 0.6em; margin: 0 0.25em; line-height: 1; border-radius: 0.35em;\">\n",
              "    Lille\n",
              "    <span style=\"font-size: 0.8em; font-weight: bold; line-height: 1; border-radius: 0.35em; vertical-align: middle; margin-left: 0.5rem\">DESTINATION</span>\n",
              "</mark>\n",
              " en partant \n",
              "<mark class=\"entity\" style=\"background: #ffe899; padding: 0.45em 0.6em; margin: 0 0.25em; line-height: 1; border-radius: 0.35em;\">\n",
              "    d'Aubervilliers\n",
              "    <span style=\"font-size: 0.8em; font-weight: bold; line-height: 1; border-radius: 0.35em; vertical-align: middle; margin-left: 0.5rem\">DEPARTURE</span>\n",
              "</mark>\n",
              " pour assister à une conférence avec une escale à \n",
              "<mark class=\"entity\" style=\"background: #82b8ff; padding: 0.45em 0.6em; margin: 0 0.25em; line-height: 1; border-radius: 0.35em;\">\n",
              "    Nice\n",
              "    <span style=\"font-size: 0.8em; font-weight: bold; line-height: 1; border-radius: 0.35em; vertical-align: middle; margin-left: 0.5rem\">ESCALE</span>\n",
              "</mark>\n",
              ".<br>Je compte me rendre à \n",
              "<mark class=\"entity\" style=\"background: #b1ff5e; padding: 0.45em 0.6em; margin: 0 0.25em; line-height: 1; border-radius: 0.35em;\">\n",
              "    Bordeaux\n",
              "    <span style=\"font-size: 0.8em; font-weight: bold; line-height: 1; border-radius: 0.35em; vertical-align: middle; margin-left: 0.5rem\">DESTINATION</span>\n",
              "</mark>\n",
              " depuis \n",
              "<mark class=\"entity\" style=\"background: #ffe899; padding: 0.45em 0.6em; margin: 0 0.25em; line-height: 1; border-radius: 0.35em;\">\n",
              "    Marseille\n",
              "    <span style=\"font-size: 0.8em; font-weight: bold; line-height: 1; border-radius: 0.35em; vertical-align: middle; margin-left: 0.5rem\">DEPARTURE</span>\n",
              "</mark>\n",
              " en m'arrêtant à \n",
              "<mark class=\"entity\" style=\"background: #82b8ff; padding: 0.45em 0.6em; margin: 0 0.25em; line-height: 1; border-radius: 0.35em;\">\n",
              "    Toulouse\n",
              "    <span style=\"font-size: 0.8em; font-weight: bold; line-height: 1; border-radius: 0.35em; vertical-align: middle; margin-left: 0.5rem\">ESCALE</span>\n",
              "</mark>\n",
              " pour rendre visite à ma soeur Paris.<br>Je dois regarder les trains \n",
              "<mark class=\"entity\" style=\"background: #ffe899; padding: 0.45em 0.6em; margin: 0 0.25em; line-height: 1; border-radius: 0.35em;\">\n",
              "    Toulouse\n",
              "    <span style=\"font-size: 0.8em; font-weight: bold; line-height: 1; border-radius: 0.35em; vertical-align: middle; margin-left: 0.5rem\">DEPARTURE</span>\n",
              "</mark>\n",
              " - \n",
              "<mark class=\"entity\" style=\"background: #b1ff5e; padding: 0.45em 0.6em; margin: 0 0.25em; line-height: 1; border-radius: 0.35em;\">\n",
              "    Brest\n",
              "    <span style=\"font-size: 0.8em; font-weight: bold; line-height: 1; border-radius: 0.35em; vertical-align: middle; margin-left: 0.5rem\">DESTINATION</span>\n",
              "</mark>\n",
              " pour aller voir mon ami Albert en faisant une escale à \n",
              "<mark class=\"entity\" style=\"background: #82b8ff; padding: 0.45em 0.6em; margin: 0 0.25em; line-height: 1; border-radius: 0.35em;\">\n",
              "    Tours\n",
              "    <span style=\"font-size: 0.8em; font-weight: bold; line-height: 1; border-radius: 0.35em; vertical-align: middle; margin-left: 0.5rem\">ESCALE</span>\n",
              "</mark>\n",
              ".<br>Je dois planifier un voyage \n",
              "<mark class=\"entity\" style=\"background: #ffe899; padding: 0.45em 0.6em; margin: 0 0.25em; line-height: 1; border-radius: 0.35em;\">\n",
              "    Nice\n",
              "    <span style=\"font-size: 0.8em; font-weight: bold; line-height: 1; border-radius: 0.35em; vertical-align: middle; margin-left: 0.5rem\">DEPARTURE</span>\n",
              "</mark>\n",
              " \n",
              "<mark class=\"entity\" style=\"background: #b1ff5e; padding: 0.45em 0.6em; margin: 0 0.25em; line-height: 1; border-radius: 0.35em;\">\n",
              "    Toulouse\n",
              "    <span style=\"font-size: 0.8em; font-weight: bold; line-height: 1; border-radius: 0.35em; vertical-align: middle; margin-left: 0.5rem\">DESTINATION</span>\n",
              "</mark>\n",
              " en passant par \n",
              "<mark class=\"entity\" style=\"background: #82b8ff; padding: 0.45em 0.6em; margin: 0 0.25em; line-height: 1; border-radius: 0.35em;\">\n",
              "    Aubervilliers\n",
              "    <span style=\"font-size: 0.8em; font-weight: bold; line-height: 1; border-radius: 0.35em; vertical-align: middle; margin-left: 0.5rem\">ESCALE</span>\n",
              "</mark>\n",
              " pour les prochaines vacances.<br>Une réunion de travail m'oblige à faire \n",
              "<mark class=\"entity\" style=\"background: #ffe899; padding: 0.45em 0.6em; margin: 0 0.25em; line-height: 1; border-radius: 0.35em;\">\n",
              "    Paris\n",
              "    <span style=\"font-size: 0.8em; font-weight: bold; line-height: 1; border-radius: 0.35em; vertical-align: middle; margin-left: 0.5rem\">DEPARTURE</span>\n",
              "</mark>\n",
              " - \n",
              "<mark class=\"entity\" style=\"background: #b1ff5e; padding: 0.45em 0.6em; margin: 0 0.25em; line-height: 1; border-radius: 0.35em;\">\n",
              "    Clermont-Ferrand\n",
              "    <span style=\"font-size: 0.8em; font-weight: bold; line-height: 1; border-radius: 0.35em; vertical-align: middle; margin-left: 0.5rem\">DESTINATION</span>\n",
              "</mark>\n",
              " avec un arrêt par \n",
              "<mark class=\"entity\" style=\"background: #82b8ff; padding: 0.45em 0.6em; margin: 0 0.25em; line-height: 1; border-radius: 0.35em;\">\n",
              "    Lyon\n",
              "    <span style=\"font-size: 0.8em; font-weight: bold; line-height: 1; border-radius: 0.35em; vertical-align: middle; margin-left: 0.5rem\">ESCALE</span>\n",
              "</mark>\n",
              " la semaine prochaine.</div></span>"
            ],
            "text/plain": [
              "<IPython.core.display.HTML object>"
            ]
          },
          "metadata": {},
          "output_type": "display_data"
        }
      ],
      "source": [
        "texte_escale = '''Je souhaite me rendre à Lille en partant d'Aubervilliers pour assister à une conférence avec une escale à Nice.\n",
        "Je compte me rendre à Bordeaux depuis Marseille en m'arrêtant à Toulouse pour rendre visite à ma soeur Paris.\n",
        "Je dois regarder les trains Toulouse - Brest pour aller voir mon ami Albert en faisant une escale à Tours.\n",
        "Je dois planifier un voyage Nice Toulouse en passant par Aubervilliers pour les prochaines vacances.\n",
        "Une réunion de travail m'oblige à faire Paris - Clermont-Ferrand avec un arrêt par Lyon la semaine prochaine.'''\n",
        "doc4 = nlp_itineraire(texte_escale) # input sample text\n",
        "\n",
        "spacy.displacy.render(doc4, style=\"ent\", options=options, jupyter=True)"
      ]
    }
  ],
  "metadata": {
    "colab": {
      "name": "Custom NER with Spacy3",
      "provenance": []
    },
    "kernelspec": {
      "display_name": "Python 3",
      "name": "python3"
    },
    "language_info": {
      "codemirror_mode": {
        "name": "ipython",
        "version": 3
      },
      "file_extension": ".py",
      "mimetype": "text/x-python",
      "name": "python",
      "nbconvert_exporter": "python",
      "pygments_lexer": "ipython3",
      "version": "3.11.5"
    }
  },
  "nbformat": 4,
  "nbformat_minor": 0
}
